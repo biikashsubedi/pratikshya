{
 "cells": [
  {
   "cell_type": "code",
   "execution_count": 33,
   "metadata": {},
   "outputs": [],
   "source": [
    "#Importing Useful libraries\n",
    "import numpy as np\n",
    "import pandas as pd\n",
    "import matplotlib.pyplot as plt\n",
    "import sklearn\n",
    "\n",
    "# ML Model\n",
    "from sklearn.ensemble import RandomForestRegressor\n",
    "from sklearn.metrics import mean_absolute_error, mean_squared_log_error\n",
    "from sklearn.model_selection import RandomizedSearchCV"
   ]
  },
  {
   "cell_type": "code",
   "execution_count": 36,
   "metadata": {},
   "outputs": [],
   "source": [
    "# Import Validation and Training set\n",
    "df = pd.read_csv('Sheet1-Table.csv', low_memory=False)"
   ]
  },
  {
   "cell_type": "code",
   "execution_count": 37,
   "metadata": {},
   "outputs": [
    {
     "name": "stdout",
     "output_type": "stream",
     "text": [
      "<class 'pandas.core.frame.DataFrame'>\n",
      "RangeIndex: 8 entries, 0 to 7\n",
      "Data columns (total 14 columns):\n",
      " #   Column                                    Non-Null Count  Dtype  \n",
      "---  ------                                    --------------  -----  \n",
      " 0   Charge                                    6 non-null      float64\n",
      " 1   spin-state(multiplicity)                  8 non-null      int64  \n",
      " 2   Lumo-values                               8 non-null      float64\n",
      " 3   Humo-values                               8 non-null      float64\n",
      " 4   Values                                    8 non-null      float64\n",
      " 5   humo-lumo gap in eV                       8 non-null      float64\n",
      " 6   Total energy in a.u                       8 non-null      float64\n",
      " 7   B.E/A in eV                               8 non-null      float64\n",
      " 8   Charge distribution                       8 non-null      object \n",
      " 9   Spin -state values  with homo- lumo  gap  8 non-null      object \n",
      " 10  Dipole Moments in Debye                   8 non-null      float64\n",
      " 11  Unnamed: 11                               0 non-null      float64\n",
      " 12  Unnamed: 12                               4 non-null      object \n",
      " 13  Unnamed: 13                               4 non-null      float64\n",
      "dtypes: float64(10), int64(1), object(3)\n",
      "memory usage: 1.0+ KB\n"
     ]
    }
   ],
   "source": [
    "df.info()"
   ]
  },
  {
   "cell_type": "code",
   "execution_count": 38,
   "metadata": {},
   "outputs": [
    {
     "data": {
      "text/plain": [
       "Charge                                      2\n",
       "spin-state(multiplicity)                    0\n",
       "Lumo-values                                 0\n",
       "Humo-values                                 0\n",
       "Values                                      0\n",
       "humo-lumo gap in eV                         0\n",
       "Total energy in a.u                         0\n",
       "B.E/A in eV                                 0\n",
       "Charge distribution                         0\n",
       "Spin -state values  with homo- lumo  gap    0\n",
       "Dipole Moments in Debye                     0\n",
       "Unnamed: 11                                 8\n",
       "Unnamed: 12                                 4\n",
       "Unnamed: 13                                 4\n",
       "dtype: int64"
      ]
     },
     "execution_count": 38,
     "metadata": {},
     "output_type": "execute_result"
    }
   ],
   "source": [
    "df.isna().sum()"
   ]
  },
  {
   "cell_type": "code",
   "execution_count": 39,
   "metadata": {},
   "outputs": [
    {
     "data": {
      "image/png": "[encoded data removed]",
      "text/plain": [
       "<Figure size 432x288 with 1 Axes>"
      ]
     },
     "metadata": {
      "needs_background": "light"
     },
     "output_type": "display_data"
    }
   ],
   "source": [
    "fig, ax = plt.subplots()\n",
    "ax.scatter(df['Lumo-values'], df['Humo-values']);"
   ]
  },
  {
   "cell_type": "code",
   "execution_count": 42,
   "metadata": {},
   "outputs": [
    {
     "data": {
      "text/plain": [
       "Text(0.5, 1.0, 'Scores by group and gender')"
      ]
     },
     "execution_count": 42,
     "metadata": {},
     "output_type": "execute_result"
    },
    {
     "data": {
      "image/png": "[encoded data removed]",
      "text/plain": [
       "<Figure size 432x288 with 1 Axes>"
      ]
     },
     "metadata": {
      "needs_background": "light"
     },
     "output_type": "display_data"
    }
   ],
   "source": [
    "df.Values.plot.hist();\n",
    "ax.set_ylabel('Scores')\n",
    "ax.set_title('Scores by group and gender')"
   ]
  },
  {
   "cell_type": "code",
   "execution_count": null,
   "metadata": {},
   "outputs": [],
   "source": [
    "df.Humo"
   ]
  }
 ],
 "metadata": {
  "kernelspec": {
   "display_name": "Python 3",
   "language": "python",
   "name": "python3"
  },
  "language_info": {
   "codemirror_mode": {
    "name": "ipython",
    "version": 3
   },
   "file_extension": ".py",
   "mimetype": "text/x-python",
   "name": "python",
   "nbconvert_exporter": "python",
   "pygments_lexer": "ipython3",
   "version": "3.8.5"
  }
 },
 "nbformat": 4,
 "nbformat_minor": 4
}
